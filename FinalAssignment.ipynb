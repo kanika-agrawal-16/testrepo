{
 "cells": [
  {
   "cell_type": "markdown",
   "id": "5cd02363-992b-4c86-ab79-7ca36dc1c10e",
   "metadata": {},
   "source": [
    "# My Jupyter Notebook on IBM Watson Studio "
   ]
  },
  {
   "cell_type": "markdown",
   "id": "80afabad-e8e2-469d-8a60-05b3346bb2c8",
   "metadata": {},
   "source": [
    "**Kanika Jitesh Agrawal**   \n",
    "\n",
    "Student "
   ]
  },
  {
   "cell_type": "markdown",
   "id": "03fef64d-7870-4020-9446-085fc1a20938",
   "metadata": {},
   "source": [
    "*I am interested in Data Science because I love playing with data and extracting useful insights through it* "
   ]
  },
  {
   "cell_type": "markdown",
   "id": "f2834368-9297-4e98-aa4d-4b3526c14b9c",
   "metadata": {},
   "source": [
    "### The below code will perform addition of two numbers "
   ]
  },
  {
   "cell_type": "code",
   "execution_count": 2,
   "id": "49cfa6a2-de8b-49d4-ab2e-e7daf37f3d6e",
   "metadata": {},
   "outputs": [
    {
     "name": "stdout",
     "output_type": "stream",
     "text": [
      "45\n"
     ]
    }
   ],
   "source": [
    "a = 25 \n",
    "b = 20 \n",
    "print (a+b) "
   ]
  },
  {
   "cell_type": "markdown",
   "id": "0a90a6a5-1db9-4225-941d-380c4e2c37e6",
   "metadata": {},
   "source": [
    "* The below table shows name of a person and the city they reside\n",
    "\n",
    "|Name|City|\n",
    "|----|----|\n",
    "|Kanika|Mumbai|\n",
    "|Atharva|Pune|\n",
    "\n",
    "1. Python \n",
    "2. R \n",
    "3. SQL"
   ]
  },
  {
   "cell_type": "code",
   "execution_count": null,
   "id": "ccf8a8ab-a87a-41ab-9096-055d72a199e3",
   "metadata": {},
   "outputs": [],
   "source": []
  }
 ],
 "metadata": {
  "kernelspec": {
   "display_name": "Python",
   "language": "python",
   "name": "conda-env-python-py"
  },
  "language_info": {
   "codemirror_mode": {
    "name": "ipython",
    "version": 3
   },
   "file_extension": ".py",
   "mimetype": "text/x-python",
   "name": "python",
   "nbconvert_exporter": "python",
   "pygments_lexer": "ipython3",
   "version": "3.7.12"
  }
 },
 "nbformat": 4,
 "nbformat_minor": 5
}
